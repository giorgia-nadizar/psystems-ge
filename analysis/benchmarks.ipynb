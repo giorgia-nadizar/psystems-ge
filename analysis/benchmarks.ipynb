{
 "cells": [
  {
   "cell_type": "code",
   "execution_count": 2,
   "metadata": {
    "collapsed": true
   },
   "outputs": [],
   "source": [
    "import os\n",
    "import pandas as pd\n",
    "import matplotlib.pyplot as plt\n",
    "import seaborn as sns"
   ]
  },
  {
   "cell_type": "code",
   "execution_count": 3,
   "outputs": [],
   "source": [
    "from numpy import median\n",
    "\n",
    "\n",
    "def line_plot(filename: str, df, x: str, y: list, groups=None):\n",
    "    def q1(x):\n",
    "        return x.quantile(0.25)\n",
    "\n",
    "    def q3(x):\n",
    "        return x.quantile(0.75)\n",
    "\n",
    "    vals = dict([(key, [q1, q3, median]) for key in y])\n",
    "\n",
    "    summary = df.groupby(groups + [x]).agg(vals)\n",
    "    summary.columns = [\"_\".join(col).replace(\"_\", \"\") for col in summary.columns.to_flat_index()]\n",
    "    summary.reset_index(inplace=True)\n",
    "\n",
    "    key_df = df.drop_duplicates(subset=groups)\n",
    "\n",
    "    for i in range(len(key_df)):\n",
    "        tmp = summary\n",
    "        current_filename = filename\n",
    "        for key in groups:\n",
    "            tmp = tmp[tmp[key] == key_df[key].iloc[i]]\n",
    "            current_filename += f\"_{key_df[key].iloc[i]}\"\n",
    "        tmp.to_csv(f\"{current_filename}.txt\".replace(\"_\", \"\"), sep=\"\\t\", index=False)\n",
    "\n",
    "\n",
    "def shorten_file(file, ys):\n",
    "    df = pd.read_csv(file, sep=\"\\t\")\n",
    "    df[\"keep\"] = True\n",
    "    for idx in range(len(df) - 1):\n",
    "        different = False\n",
    "        for y in ys:\n",
    "            if df[y].iloc[idx] != df[y].iloc[idx - 1]:\n",
    "                different = True\n",
    "                break\n",
    "        if different:\n",
    "            df[\"keep\"].iloc[idx - 1] = True\n",
    "        else:\n",
    "            df[\"keep\"].iloc[idx] = False\n",
    "    ddf = df[df[\"keep\"] == True]\n",
    "    ddf.to_csv(file.replace(\".txt\", \"s.txt\"), index=False, sep=\"\\t\")"
   ],
   "metadata": {
    "collapsed": false
   }
  },
  {
   "cell_type": "code",
   "execution_count": 68,
   "outputs": [],
   "source": [
    "standard_df = pd.read_csv(\"data/hard_setting.csv\")\n",
    "standard_df[\"setting\"] = \"difficult\"\n",
    "easy_df = pd.read_csv(\"data/easy_setting.csv\")"
   ],
   "metadata": {
    "collapsed": false
   }
  },
  {
   "cell_type": "code",
   "execution_count": 66,
   "outputs": [
    {
     "data": {
      "text/plain": "<Figure size 689.625x216 with 3 Axes>",
      "image/png": "[encoded data removed]"
     },
     "metadata": {},
     "output_type": "display_data"
    }
   ],
   "source": [
    "g = sns.FacetGrid(standard_df, col=\"problem\")\n",
    "g.map_dataframe(sns.lineplot, x=\"gen\", y=\"best_fitness\", hue=\"n\", estimator=\"median\", errorbar=(\"pi\", 50))\n",
    "g.add_legend()\n",
    "plt.show()"
   ],
   "metadata": {
    "collapsed": false
   }
  },
  {
   "cell_type": "code",
   "execution_count": 52,
   "outputs": [
    {
     "name": "stderr",
     "output_type": "stream",
     "text": [
      "C:\\Users\\giorg\\AppData\\Local\\Temp/ipykernel_11368/654610735.py:38: SettingWithCopyWarning: \n",
      "A value is trying to be set on a copy of a slice from a DataFrame\n",
      "\n",
      "See the caveats in the documentation: https://pandas.pydata.org/pandas-docs/stable/user_guide/indexing.html#returning-a-view-versus-a-copy\n",
      "  df[\"keep\"].iloc[idx - 1] = True\n",
      "C:\\Users\\giorg\\AppData\\Local\\Temp/ipykernel_11368/654610735.py:40: SettingWithCopyWarning: \n",
      "A value is trying to be set on a copy of a slice from a DataFrame\n",
      "\n",
      "See the caveats in the documentation: https://pandas.pydata.org/pandas-docs/stable/user_guide/indexing.html#returning-a-view-versus-a-copy\n",
      "  df[\"keep\"].iloc[idx] = False\n",
      "C:\\Users\\giorg\\AppData\\Local\\Temp/ipykernel_11368/654610735.py:38: SettingWithCopyWarning: \n",
      "A value is trying to be set on a copy of a slice from a DataFrame\n",
      "\n",
      "See the caveats in the documentation: https://pandas.pydata.org/pandas-docs/stable/user_guide/indexing.html#returning-a-view-versus-a-copy\n",
      "  df[\"keep\"].iloc[idx - 1] = True\n",
      "C:\\Users\\giorg\\AppData\\Local\\Temp/ipykernel_11368/654610735.py:40: SettingWithCopyWarning: \n",
      "A value is trying to be set on a copy of a slice from a DataFrame\n",
      "\n",
      "See the caveats in the documentation: https://pandas.pydata.org/pandas-docs/stable/user_guide/indexing.html#returning-a-view-versus-a-copy\n",
      "  df[\"keep\"].iloc[idx] = False\n",
      "C:\\Users\\giorg\\AppData\\Local\\Temp/ipykernel_11368/654610735.py:38: SettingWithCopyWarning: \n",
      "A value is trying to be set on a copy of a slice from a DataFrame\n",
      "\n",
      "See the caveats in the documentation: https://pandas.pydata.org/pandas-docs/stable/user_guide/indexing.html#returning-a-view-versus-a-copy\n",
      "  df[\"keep\"].iloc[idx - 1] = True\n",
      "C:\\Users\\giorg\\AppData\\Local\\Temp/ipykernel_11368/654610735.py:40: SettingWithCopyWarning: \n",
      "A value is trying to be set on a copy of a slice from a DataFrame\n",
      "\n",
      "See the caveats in the documentation: https://pandas.pydata.org/pandas-docs/stable/user_guide/indexing.html#returning-a-view-versus-a-copy\n",
      "  df[\"keep\"].iloc[idx] = False\n",
      "C:\\Users\\giorg\\AppData\\Local\\Temp/ipykernel_11368/654610735.py:38: SettingWithCopyWarning: \n",
      "A value is trying to be set on a copy of a slice from a DataFrame\n",
      "\n",
      "See the caveats in the documentation: https://pandas.pydata.org/pandas-docs/stable/user_guide/indexing.html#returning-a-view-versus-a-copy\n",
      "  df[\"keep\"].iloc[idx - 1] = True\n",
      "C:\\Users\\giorg\\AppData\\Local\\Temp/ipykernel_11368/654610735.py:40: SettingWithCopyWarning: \n",
      "A value is trying to be set on a copy of a slice from a DataFrame\n",
      "\n",
      "See the caveats in the documentation: https://pandas.pydata.org/pandas-docs/stable/user_guide/indexing.html#returning-a-view-versus-a-copy\n",
      "  df[\"keep\"].iloc[idx] = False\n",
      "C:\\Users\\giorg\\AppData\\Local\\Temp/ipykernel_11368/654610735.py:38: SettingWithCopyWarning: \n",
      "A value is trying to be set on a copy of a slice from a DataFrame\n",
      "\n",
      "See the caveats in the documentation: https://pandas.pydata.org/pandas-docs/stable/user_guide/indexing.html#returning-a-view-versus-a-copy\n",
      "  df[\"keep\"].iloc[idx - 1] = True\n",
      "C:\\Users\\giorg\\AppData\\Local\\Temp/ipykernel_11368/654610735.py:40: SettingWithCopyWarning: \n",
      "A value is trying to be set on a copy of a slice from a DataFrame\n",
      "\n",
      "See the caveats in the documentation: https://pandas.pydata.org/pandas-docs/stable/user_guide/indexing.html#returning-a-view-versus-a-copy\n",
      "  df[\"keep\"].iloc[idx] = False\n",
      "C:\\Users\\giorg\\AppData\\Local\\Temp/ipykernel_11368/654610735.py:38: SettingWithCopyWarning: \n",
      "A value is trying to be set on a copy of a slice from a DataFrame\n",
      "\n",
      "See the caveats in the documentation: https://pandas.pydata.org/pandas-docs/stable/user_guide/indexing.html#returning-a-view-versus-a-copy\n",
      "  df[\"keep\"].iloc[idx - 1] = True\n",
      "C:\\Users\\giorg\\AppData\\Local\\Temp/ipykernel_11368/654610735.py:40: SettingWithCopyWarning: \n",
      "A value is trying to be set on a copy of a slice from a DataFrame\n",
      "\n",
      "See the caveats in the documentation: https://pandas.pydata.org/pandas-docs/stable/user_guide/indexing.html#returning-a-view-versus-a-copy\n",
      "  df[\"keep\"].iloc[idx] = False\n",
      "C:\\Users\\giorg\\AppData\\Local\\Temp/ipykernel_11368/654610735.py:38: SettingWithCopyWarning: \n",
      "A value is trying to be set on a copy of a slice from a DataFrame\n",
      "\n",
      "See the caveats in the documentation: https://pandas.pydata.org/pandas-docs/stable/user_guide/indexing.html#returning-a-view-versus-a-copy\n",
      "  df[\"keep\"].iloc[idx - 1] = True\n",
      "C:\\Users\\giorg\\AppData\\Local\\Temp/ipykernel_11368/654610735.py:40: SettingWithCopyWarning: \n",
      "A value is trying to be set on a copy of a slice from a DataFrame\n",
      "\n",
      "See the caveats in the documentation: https://pandas.pydata.org/pandas-docs/stable/user_guide/indexing.html#returning-a-view-versus-a-copy\n",
      "  df[\"keep\"].iloc[idx] = False\n",
      "C:\\Users\\giorg\\AppData\\Local\\Temp/ipykernel_11368/654610735.py:38: SettingWithCopyWarning: \n",
      "A value is trying to be set on a copy of a slice from a DataFrame\n",
      "\n",
      "See the caveats in the documentation: https://pandas.pydata.org/pandas-docs/stable/user_guide/indexing.html#returning-a-view-versus-a-copy\n",
      "  df[\"keep\"].iloc[idx - 1] = True\n",
      "C:\\Users\\giorg\\AppData\\Local\\Temp/ipykernel_11368/654610735.py:40: SettingWithCopyWarning: \n",
      "A value is trying to be set on a copy of a slice from a DataFrame\n",
      "\n",
      "See the caveats in the documentation: https://pandas.pydata.org/pandas-docs/stable/user_guide/indexing.html#returning-a-view-versus-a-copy\n",
      "  df[\"keep\"].iloc[idx] = False\n",
      "C:\\Users\\giorg\\AppData\\Local\\Temp/ipykernel_11368/654610735.py:38: SettingWithCopyWarning: \n",
      "A value is trying to be set on a copy of a slice from a DataFrame\n",
      "\n",
      "See the caveats in the documentation: https://pandas.pydata.org/pandas-docs/stable/user_guide/indexing.html#returning-a-view-versus-a-copy\n",
      "  df[\"keep\"].iloc[idx - 1] = True\n",
      "C:\\Users\\giorg\\AppData\\Local\\Temp/ipykernel_11368/654610735.py:40: SettingWithCopyWarning: \n",
      "A value is trying to be set on a copy of a slice from a DataFrame\n",
      "\n",
      "See the caveats in the documentation: https://pandas.pydata.org/pandas-docs/stable/user_guide/indexing.html#returning-a-view-versus-a-copy\n",
      "  df[\"keep\"].iloc[idx] = False\n",
      "C:\\Users\\giorg\\AppData\\Local\\Temp/ipykernel_11368/654610735.py:38: SettingWithCopyWarning: \n",
      "A value is trying to be set on a copy of a slice from a DataFrame\n",
      "\n",
      "See the caveats in the documentation: https://pandas.pydata.org/pandas-docs/stable/user_guide/indexing.html#returning-a-view-versus-a-copy\n",
      "  df[\"keep\"].iloc[idx - 1] = True\n",
      "C:\\Users\\giorg\\AppData\\Local\\Temp/ipykernel_11368/654610735.py:40: SettingWithCopyWarning: \n",
      "A value is trying to be set on a copy of a slice from a DataFrame\n",
      "\n",
      "See the caveats in the documentation: https://pandas.pydata.org/pandas-docs/stable/user_guide/indexing.html#returning-a-view-versus-a-copy\n",
      "  df[\"keep\"].iloc[idx] = False\n",
      "C:\\Users\\giorg\\AppData\\Local\\Temp/ipykernel_11368/654610735.py:38: SettingWithCopyWarning: \n",
      "A value is trying to be set on a copy of a slice from a DataFrame\n",
      "\n",
      "See the caveats in the documentation: https://pandas.pydata.org/pandas-docs/stable/user_guide/indexing.html#returning-a-view-versus-a-copy\n",
      "  df[\"keep\"].iloc[idx - 1] = True\n",
      "C:\\Users\\giorg\\AppData\\Local\\Temp/ipykernel_11368/654610735.py:40: SettingWithCopyWarning: \n",
      "A value is trying to be set on a copy of a slice from a DataFrame\n",
      "\n",
      "See the caveats in the documentation: https://pandas.pydata.org/pandas-docs/stable/user_guide/indexing.html#returning-a-view-versus-a-copy\n",
      "  df[\"keep\"].iloc[idx] = False\n",
      "C:\\Users\\giorg\\AppData\\Local\\Temp/ipykernel_11368/654610735.py:38: SettingWithCopyWarning: \n",
      "A value is trying to be set on a copy of a slice from a DataFrame\n",
      "\n",
      "See the caveats in the documentation: https://pandas.pydata.org/pandas-docs/stable/user_guide/indexing.html#returning-a-view-versus-a-copy\n",
      "  df[\"keep\"].iloc[idx - 1] = True\n",
      "C:\\Users\\giorg\\AppData\\Local\\Temp/ipykernel_11368/654610735.py:40: SettingWithCopyWarning: \n",
      "A value is trying to be set on a copy of a slice from a DataFrame\n",
      "\n",
      "See the caveats in the documentation: https://pandas.pydata.org/pandas-docs/stable/user_guide/indexing.html#returning-a-view-versus-a-copy\n",
      "  df[\"keep\"].iloc[idx] = False\n"
     ]
    }
   ],
   "source": [
    "line_plot(\"results/pgfplots/lp\", standard_df, \"gen\", [\"best_fitness\"], groups=[\"problem\", \"setting\", \"n\"])\n",
    "for p in [\"sendin\", \"sendout\", \"evolution\"]:\n",
    "    for n in range(2, 6):\n",
    "        f = f\"results/pgfplots/lp{p}difficult{n}.txt\"\n",
    "        shorten_file(f, [\"bestfitnessmedian\", \"bestfitnessq1\", \"bestfitnessq3\"])"
   ],
   "metadata": {
    "collapsed": false
   }
  },
  {
   "cell_type": "code",
   "execution_count": 53,
   "outputs": [
    {
     "data": {
      "text/plain": "                    total                   zeros                 fraction  \\\nn                       2     3     4     5     2     3    4    5        2   \nproblem   setting                                                            \nevolution difficult  30.0  30.0  30.0  30.0  30.0   5.0  0.0  0.0      1.0   \nsend_in   difficult  30.0  30.0  30.0  30.0  30.0  24.0  2.0  0.0      1.0   \nsend_out  difficult  30.0  30.0  30.0  30.0  30.0  27.0  5.0  0.0      1.0   \n\n                                              \nn                           3         4    5  \nproblem   setting                             \nevolution difficult  0.166667  0.000000  0.0  \nsend_in   difficult  0.800000  0.066667  0.0  \nsend_out  difficult  0.900000  0.166667  0.0  ",
      "text/html": "<div>\n<style scoped>\n    .dataframe tbody tr th:only-of-type {\n        vertical-align: middle;\n    }\n\n    .dataframe tbody tr th {\n        vertical-align: top;\n    }\n\n    .dataframe thead tr th {\n        text-align: left;\n    }\n\n    .dataframe thead tr:last-of-type th {\n        text-align: right;\n    }\n</style>\n<table border=\"1\" class=\"dataframe\">\n  <thead>\n    <tr>\n      <th></th>\n      <th></th>\n      <th colspan=\"4\" halign=\"left\">total</th>\n      <th colspan=\"4\" halign=\"left\">zeros</th>\n      <th colspan=\"4\" halign=\"left\">fraction</th>\n    </tr>\n    <tr>\n      <th></th>\n      <th>n</th>\n      <th>2</th>\n      <th>3</th>\n      <th>4</th>\n      <th>5</th>\n      <th>2</th>\n      <th>3</th>\n      <th>4</th>\n      <th>5</th>\n      <th>2</th>\n      <th>3</th>\n      <th>4</th>\n      <th>5</th>\n    </tr>\n    <tr>\n      <th>problem</th>\n      <th>setting</th>\n      <th></th>\n      <th></th>\n      <th></th>\n      <th></th>\n      <th></th>\n      <th></th>\n      <th></th>\n      <th></th>\n      <th></th>\n      <th></th>\n      <th></th>\n      <th></th>\n    </tr>\n  </thead>\n  <tbody>\n    <tr>\n      <th>evolution</th>\n      <th>difficult</th>\n      <td>30.0</td>\n      <td>30.0</td>\n      <td>30.0</td>\n      <td>30.0</td>\n      <td>30.0</td>\n      <td>5.0</td>\n      <td>0.0</td>\n      <td>0.0</td>\n      <td>1.0</td>\n      <td>0.166667</td>\n      <td>0.000000</td>\n      <td>0.0</td>\n    </tr>\n    <tr>\n      <th>send_in</th>\n      <th>difficult</th>\n      <td>30.0</td>\n      <td>30.0</td>\n      <td>30.0</td>\n      <td>30.0</td>\n      <td>30.0</td>\n      <td>24.0</td>\n      <td>2.0</td>\n      <td>0.0</td>\n      <td>1.0</td>\n      <td>0.800000</td>\n      <td>0.066667</td>\n      <td>0.0</td>\n    </tr>\n    <tr>\n      <th>send_out</th>\n      <th>difficult</th>\n      <td>30.0</td>\n      <td>30.0</td>\n      <td>30.0</td>\n      <td>30.0</td>\n      <td>30.0</td>\n      <td>27.0</td>\n      <td>5.0</td>\n      <td>0.0</td>\n      <td>1.0</td>\n      <td>0.900000</td>\n      <td>0.166667</td>\n      <td>0.0</td>\n    </tr>\n  </tbody>\n</table>\n</div>"
     },
     "execution_count": 53,
     "metadata": {},
     "output_type": "execute_result"
    }
   ],
   "source": [
    "total = standard_df.groupby([\"problem\", \"setting\", \"n\"]).seed.nunique().reset_index()\n",
    "total.rename(columns={\"seed\": \"total\"}, inplace=True)\n",
    "zeros = standard_df[standard_df[\"best_fitness\"] == 0].groupby([\"problem\", \"setting\", \"n\"]).seed.nunique().reset_index()\n",
    "zeros.rename(columns={\"seed\": \"zeros\"}, inplace=True)\n",
    "summary = pd.merge(total, zeros, how=\"left\")\n",
    "summary[\"zeros\"] = summary[\"zeros\"].fillna(0)\n",
    "summary[\"fraction\"] = summary[\"zeros\"] / summary[\"total\"]\n",
    "pivot_summary = pd.pivot(summary, index=[\"problem\", \"setting\"], columns=\"n\", values=[\"total\", \"zeros\", \"fraction\"])\n",
    "pivot_summary.head(10)"
   ],
   "metadata": {
    "collapsed": false
   }
  },
  {
   "cell_type": "code",
   "execution_count": 69,
   "outputs": [
    {
     "data": {
      "text/plain": "<Figure size 689.625x216 with 3 Axes>",
      "image/png": "[encoded data removed]"
     },
     "metadata": {},
     "output_type": "display_data"
    }
   ],
   "source": [
    "g = sns.FacetGrid(easy_df, col=\"problem\")\n",
    "g.map_dataframe(sns.lineplot, x=\"gen\", y=\"best_fitness\", hue=\"n\", estimator=\"median\", errorbar=(\"pi\", 50))\n",
    "g.add_legend()\n",
    "plt.show()"
   ],
   "metadata": {
    "collapsed": false
   }
  },
  {
   "cell_type": "code",
   "execution_count": 70,
   "outputs": [
    {
     "name": "stderr",
     "output_type": "stream",
     "text": [
      "C:\\Users\\giorg\\AppData\\Local\\Temp/ipykernel_11368/654610735.py:38: SettingWithCopyWarning: \n",
      "A value is trying to be set on a copy of a slice from a DataFrame\n",
      "\n",
      "See the caveats in the documentation: https://pandas.pydata.org/pandas-docs/stable/user_guide/indexing.html#returning-a-view-versus-a-copy\n",
      "  df[\"keep\"].iloc[idx - 1] = True\n",
      "C:\\Users\\giorg\\AppData\\Local\\Temp/ipykernel_11368/654610735.py:40: SettingWithCopyWarning: \n",
      "A value is trying to be set on a copy of a slice from a DataFrame\n",
      "\n",
      "See the caveats in the documentation: https://pandas.pydata.org/pandas-docs/stable/user_guide/indexing.html#returning-a-view-versus-a-copy\n",
      "  df[\"keep\"].iloc[idx] = False\n",
      "C:\\Users\\giorg\\AppData\\Local\\Temp/ipykernel_11368/654610735.py:38: SettingWithCopyWarning: \n",
      "A value is trying to be set on a copy of a slice from a DataFrame\n",
      "\n",
      "See the caveats in the documentation: https://pandas.pydata.org/pandas-docs/stable/user_guide/indexing.html#returning-a-view-versus-a-copy\n",
      "  df[\"keep\"].iloc[idx - 1] = True\n",
      "C:\\Users\\giorg\\AppData\\Local\\Temp/ipykernel_11368/654610735.py:40: SettingWithCopyWarning: \n",
      "A value is trying to be set on a copy of a slice from a DataFrame\n",
      "\n",
      "See the caveats in the documentation: https://pandas.pydata.org/pandas-docs/stable/user_guide/indexing.html#returning-a-view-versus-a-copy\n",
      "  df[\"keep\"].iloc[idx] = False\n",
      "C:\\Users\\giorg\\AppData\\Local\\Temp/ipykernel_11368/654610735.py:38: SettingWithCopyWarning: \n",
      "A value is trying to be set on a copy of a slice from a DataFrame\n",
      "\n",
      "See the caveats in the documentation: https://pandas.pydata.org/pandas-docs/stable/user_guide/indexing.html#returning-a-view-versus-a-copy\n",
      "  df[\"keep\"].iloc[idx - 1] = True\n",
      "C:\\Users\\giorg\\AppData\\Local\\Temp/ipykernel_11368/654610735.py:40: SettingWithCopyWarning: \n",
      "A value is trying to be set on a copy of a slice from a DataFrame\n",
      "\n",
      "See the caveats in the documentation: https://pandas.pydata.org/pandas-docs/stable/user_guide/indexing.html#returning-a-view-versus-a-copy\n",
      "  df[\"keep\"].iloc[idx] = False\n",
      "C:\\Users\\giorg\\AppData\\Local\\Temp/ipykernel_11368/654610735.py:38: SettingWithCopyWarning: \n",
      "A value is trying to be set on a copy of a slice from a DataFrame\n",
      "\n",
      "See the caveats in the documentation: https://pandas.pydata.org/pandas-docs/stable/user_guide/indexing.html#returning-a-view-versus-a-copy\n",
      "  df[\"keep\"].iloc[idx - 1] = True\n",
      "C:\\Users\\giorg\\AppData\\Local\\Temp/ipykernel_11368/654610735.py:40: SettingWithCopyWarning: \n",
      "A value is trying to be set on a copy of a slice from a DataFrame\n",
      "\n",
      "See the caveats in the documentation: https://pandas.pydata.org/pandas-docs/stable/user_guide/indexing.html#returning-a-view-versus-a-copy\n",
      "  df[\"keep\"].iloc[idx] = False\n",
      "C:\\Users\\giorg\\AppData\\Local\\Temp/ipykernel_11368/654610735.py:38: SettingWithCopyWarning: \n",
      "A value is trying to be set on a copy of a slice from a DataFrame\n",
      "\n",
      "See the caveats in the documentation: https://pandas.pydata.org/pandas-docs/stable/user_guide/indexing.html#returning-a-view-versus-a-copy\n",
      "  df[\"keep\"].iloc[idx - 1] = True\n",
      "C:\\Users\\giorg\\AppData\\Local\\Temp/ipykernel_11368/654610735.py:40: SettingWithCopyWarning: \n",
      "A value is trying to be set on a copy of a slice from a DataFrame\n",
      "\n",
      "See the caveats in the documentation: https://pandas.pydata.org/pandas-docs/stable/user_guide/indexing.html#returning-a-view-versus-a-copy\n",
      "  df[\"keep\"].iloc[idx] = False\n",
      "C:\\Users\\giorg\\AppData\\Local\\Temp/ipykernel_11368/654610735.py:38: SettingWithCopyWarning: \n",
      "A value is trying to be set on a copy of a slice from a DataFrame\n",
      "\n",
      "See the caveats in the documentation: https://pandas.pydata.org/pandas-docs/stable/user_guide/indexing.html#returning-a-view-versus-a-copy\n",
      "  df[\"keep\"].iloc[idx - 1] = True\n",
      "C:\\Users\\giorg\\AppData\\Local\\Temp/ipykernel_11368/654610735.py:40: SettingWithCopyWarning: \n",
      "A value is trying to be set on a copy of a slice from a DataFrame\n",
      "\n",
      "See the caveats in the documentation: https://pandas.pydata.org/pandas-docs/stable/user_guide/indexing.html#returning-a-view-versus-a-copy\n",
      "  df[\"keep\"].iloc[idx] = False\n",
      "C:\\Users\\giorg\\AppData\\Local\\Temp/ipykernel_11368/654610735.py:38: SettingWithCopyWarning: \n",
      "A value is trying to be set on a copy of a slice from a DataFrame\n",
      "\n",
      "See the caveats in the documentation: https://pandas.pydata.org/pandas-docs/stable/user_guide/indexing.html#returning-a-view-versus-a-copy\n",
      "  df[\"keep\"].iloc[idx - 1] = True\n",
      "C:\\Users\\giorg\\AppData\\Local\\Temp/ipykernel_11368/654610735.py:40: SettingWithCopyWarning: \n",
      "A value is trying to be set on a copy of a slice from a DataFrame\n",
      "\n",
      "See the caveats in the documentation: https://pandas.pydata.org/pandas-docs/stable/user_guide/indexing.html#returning-a-view-versus-a-copy\n",
      "  df[\"keep\"].iloc[idx] = False\n",
      "C:\\Users\\giorg\\AppData\\Local\\Temp/ipykernel_11368/654610735.py:38: SettingWithCopyWarning: \n",
      "A value is trying to be set on a copy of a slice from a DataFrame\n",
      "\n",
      "See the caveats in the documentation: https://pandas.pydata.org/pandas-docs/stable/user_guide/indexing.html#returning-a-view-versus-a-copy\n",
      "  df[\"keep\"].iloc[idx - 1] = True\n",
      "C:\\Users\\giorg\\AppData\\Local\\Temp/ipykernel_11368/654610735.py:40: SettingWithCopyWarning: \n",
      "A value is trying to be set on a copy of a slice from a DataFrame\n",
      "\n",
      "See the caveats in the documentation: https://pandas.pydata.org/pandas-docs/stable/user_guide/indexing.html#returning-a-view-versus-a-copy\n",
      "  df[\"keep\"].iloc[idx] = False\n",
      "C:\\Users\\giorg\\AppData\\Local\\Temp/ipykernel_11368/654610735.py:38: SettingWithCopyWarning: \n",
      "A value is trying to be set on a copy of a slice from a DataFrame\n",
      "\n",
      "See the caveats in the documentation: https://pandas.pydata.org/pandas-docs/stable/user_guide/indexing.html#returning-a-view-versus-a-copy\n",
      "  df[\"keep\"].iloc[idx - 1] = True\n",
      "C:\\Users\\giorg\\AppData\\Local\\Temp/ipykernel_11368/654610735.py:40: SettingWithCopyWarning: \n",
      "A value is trying to be set on a copy of a slice from a DataFrame\n",
      "\n",
      "See the caveats in the documentation: https://pandas.pydata.org/pandas-docs/stable/user_guide/indexing.html#returning-a-view-versus-a-copy\n",
      "  df[\"keep\"].iloc[idx] = False\n",
      "C:\\Users\\giorg\\AppData\\Local\\Temp/ipykernel_11368/654610735.py:38: SettingWithCopyWarning: \n",
      "A value is trying to be set on a copy of a slice from a DataFrame\n",
      "\n",
      "See the caveats in the documentation: https://pandas.pydata.org/pandas-docs/stable/user_guide/indexing.html#returning-a-view-versus-a-copy\n",
      "  df[\"keep\"].iloc[idx - 1] = True\n",
      "C:\\Users\\giorg\\AppData\\Local\\Temp/ipykernel_11368/654610735.py:40: SettingWithCopyWarning: \n",
      "A value is trying to be set on a copy of a slice from a DataFrame\n",
      "\n",
      "See the caveats in the documentation: https://pandas.pydata.org/pandas-docs/stable/user_guide/indexing.html#returning-a-view-versus-a-copy\n",
      "  df[\"keep\"].iloc[idx] = False\n",
      "C:\\Users\\giorg\\AppData\\Local\\Temp/ipykernel_11368/654610735.py:38: SettingWithCopyWarning: \n",
      "A value is trying to be set on a copy of a slice from a DataFrame\n",
      "\n",
      "See the caveats in the documentation: https://pandas.pydata.org/pandas-docs/stable/user_guide/indexing.html#returning-a-view-versus-a-copy\n",
      "  df[\"keep\"].iloc[idx - 1] = True\n",
      "C:\\Users\\giorg\\AppData\\Local\\Temp/ipykernel_11368/654610735.py:40: SettingWithCopyWarning: \n",
      "A value is trying to be set on a copy of a slice from a DataFrame\n",
      "\n",
      "See the caveats in the documentation: https://pandas.pydata.org/pandas-docs/stable/user_guide/indexing.html#returning-a-view-versus-a-copy\n",
      "  df[\"keep\"].iloc[idx] = False\n",
      "C:\\Users\\giorg\\AppData\\Local\\Temp/ipykernel_11368/654610735.py:38: SettingWithCopyWarning: \n",
      "A value is trying to be set on a copy of a slice from a DataFrame\n",
      "\n",
      "See the caveats in the documentation: https://pandas.pydata.org/pandas-docs/stable/user_guide/indexing.html#returning-a-view-versus-a-copy\n",
      "  df[\"keep\"].iloc[idx - 1] = True\n",
      "C:\\Users\\giorg\\AppData\\Local\\Temp/ipykernel_11368/654610735.py:40: SettingWithCopyWarning: \n",
      "A value is trying to be set on a copy of a slice from a DataFrame\n",
      "\n",
      "See the caveats in the documentation: https://pandas.pydata.org/pandas-docs/stable/user_guide/indexing.html#returning-a-view-versus-a-copy\n",
      "  df[\"keep\"].iloc[idx] = False\n"
     ]
    }
   ],
   "source": [
    "line_plot(\"results/pgfplots/lp\", easy_df, \"gen\", [\"best_fitness\"], groups=[\"problem\", \"setting\", \"n\"])\n",
    "for p in [\"sendin\", \"sendout\", \"evolution\"]:\n",
    "    for n in range(2, 6):\n",
    "        f = f\"results/pgfplots/lp{p}easy{n}.txt\"\n",
    "        shorten_file(f, [\"bestfitnessmedian\", \"bestfitnessq1\", \"bestfitnessq3\"])"
   ],
   "metadata": {
    "collapsed": false
   }
  },
  {
   "cell_type": "code",
   "execution_count": 71,
   "outputs": [
    {
     "data": {
      "text/plain": "                  total                   zeros                   fraction  \\\nn                     2     3     4     5     2     3     4     5        2   \nproblem   setting                                                            \nevolution easy     30.0  30.0  30.0  30.0  30.0  20.0   2.0   0.0      1.0   \nsend_in   easy     30.0  30.0  30.0  30.0  30.0  30.0  26.0  13.0      1.0   \nsend_out  easy     30.0  30.0  30.0  30.0  30.0  30.0  26.0   8.0      1.0   \n\n                                                 \nn                         3         4         5  \nproblem   setting                                \nevolution easy     0.666667  0.066667  0.000000  \nsend_in   easy     1.000000  0.866667  0.433333  \nsend_out  easy     1.000000  0.866667  0.266667  ",
      "text/html": "<div>\n<style scoped>\n    .dataframe tbody tr th:only-of-type {\n        vertical-align: middle;\n    }\n\n    .dataframe tbody tr th {\n        vertical-align: top;\n    }\n\n    .dataframe thead tr th {\n        text-align: left;\n    }\n\n    .dataframe thead tr:last-of-type th {\n        text-align: right;\n    }\n</style>\n<table border=\"1\" class=\"dataframe\">\n  <thead>\n    <tr>\n      <th></th>\n      <th></th>\n      <th colspan=\"4\" halign=\"left\">total</th>\n      <th colspan=\"4\" halign=\"left\">zeros</th>\n      <th colspan=\"4\" halign=\"left\">fraction</th>\n    </tr>\n    <tr>\n      <th></th>\n      <th>n</th>\n      <th>2</th>\n      <th>3</th>\n      <th>4</th>\n      <th>5</th>\n      <th>2</th>\n      <th>3</th>\n      <th>4</th>\n      <th>5</th>\n      <th>2</th>\n      <th>3</th>\n      <th>4</th>\n      <th>5</th>\n    </tr>\n    <tr>\n      <th>problem</th>\n      <th>setting</th>\n      <th></th>\n      <th></th>\n      <th></th>\n      <th></th>\n      <th></th>\n      <th></th>\n      <th></th>\n      <th></th>\n      <th></th>\n      <th></th>\n      <th></th>\n      <th></th>\n    </tr>\n  </thead>\n  <tbody>\n    <tr>\n      <th>evolution</th>\n      <th>easy</th>\n      <td>30.0</td>\n      <td>30.0</td>\n      <td>30.0</td>\n      <td>30.0</td>\n      <td>30.0</td>\n      <td>20.0</td>\n      <td>2.0</td>\n      <td>0.0</td>\n      <td>1.0</td>\n      <td>0.666667</td>\n      <td>0.066667</td>\n      <td>0.000000</td>\n    </tr>\n    <tr>\n      <th>send_in</th>\n      <th>easy</th>\n      <td>30.0</td>\n      <td>30.0</td>\n      <td>30.0</td>\n      <td>30.0</td>\n      <td>30.0</td>\n      <td>30.0</td>\n      <td>26.0</td>\n      <td>13.0</td>\n      <td>1.0</td>\n      <td>1.000000</td>\n      <td>0.866667</td>\n      <td>0.433333</td>\n    </tr>\n    <tr>\n      <th>send_out</th>\n      <th>easy</th>\n      <td>30.0</td>\n      <td>30.0</td>\n      <td>30.0</td>\n      <td>30.0</td>\n      <td>30.0</td>\n      <td>30.0</td>\n      <td>26.0</td>\n      <td>8.0</td>\n      <td>1.0</td>\n      <td>1.000000</td>\n      <td>0.866667</td>\n      <td>0.266667</td>\n    </tr>\n  </tbody>\n</table>\n</div>"
     },
     "execution_count": 71,
     "metadata": {},
     "output_type": "execute_result"
    }
   ],
   "source": [
    "total = easy_df.groupby([\"problem\", \"setting\", \"n\"]).seed.nunique().reset_index()\n",
    "total.rename(columns={\"seed\": \"total\"}, inplace=True)\n",
    "zeros = easy_df[easy_df[\"best_fitness\"] == 0].groupby([\"problem\", \"setting\", \"n\"]).seed.nunique().reset_index()\n",
    "zeros.rename(columns={\"seed\": \"zeros\"}, inplace=True)\n",
    "summary = pd.merge(total, zeros, how=\"left\")\n",
    "summary[\"zeros\"] = summary[\"zeros\"].fillna(0)\n",
    "summary[\"fraction\"] = summary[\"zeros\"] / summary[\"total\"]\n",
    "pivot_summary = pd.pivot(summary, index=[\"problem\", \"setting\"], columns=\"n\", values=[\"total\", \"zeros\", \"fraction\"])\n",
    "pivot_summary.head(10)"
   ],
   "metadata": {
    "collapsed": false
   }
  }
 ],
 "metadata": {
  "kernelspec": {
   "display_name": "Python 3",
   "language": "python",
   "name": "python3"
  },
  "language_info": {
   "codemirror_mode": {
    "name": "ipython",
    "version": 2
   },
   "file_extension": ".py",
   "mimetype": "text/x-python",
   "name": "python",
   "nbconvert_exporter": "python",
   "pygments_lexer": "ipython2",
   "version": "2.7.6"
  }
 },
 "nbformat": 4,
 "nbformat_minor": 0
}
